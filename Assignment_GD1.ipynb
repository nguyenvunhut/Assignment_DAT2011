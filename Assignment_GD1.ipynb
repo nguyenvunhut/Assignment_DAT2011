{
 "cells": [
  {
   "cell_type": "code",
   "execution_count": 6,
   "id": "c9f6d1dc",
   "metadata": {},
   "outputs": [
    {
     "name": "stdout",
     "output_type": "stream",
     "text": [
      "\n",
      "=== QUẢN LÝ NHÂN SỰ TIỀN LƯƠNG ===\n",
      "1. Nhập danh sách nhân viên\n",
      "2. Xuất danh sách nhân viên\n",
      "3. Tìm nhân viên theo mã\n",
      "4. Xóa nhân viên theo mã\n",
      "5. Cập nhật thông tin nhân viên\n",
      "0. Thoát\n",
      "Thank you!\n"
     ]
    }
   ],
   "source": [
    "import Assignment_GD1 as md\n",
    "\n",
    "while True:\n",
    "    md.print_menu()\n",
    "    choose = md.safe_input_int(\"Chọn chức năng: \")\n",
    "    match choose:\n",
    "        case 1: md.nhap_nhan_vien()\n",
    "        case 2: md.xuat_danh_sach()\n",
    "        case 3: md.tim_theo_ma()\n",
    "        case 4: md.xoa_theo_ma()\n",
    "        case 5: md.cap_nhat_thong_tin()\n",
    "        case 6: md.tim_theo_luong()\n",
    "        case 7: md.sap_xep_theo_ten()\n",
    "        case 8: md.sap_xep_theo_thu_nhap()\n",
    "        case 9: md.top5_thu_nhap()\n",
    "        case 0:\n",
    "            print(\"Thank you!\")\n",
    "            break\n",
    "        case _: print(\"Chức năng không tồn tại, vui lòng nhập lại.\")\n",
    "\n"
   ]
  },
  {
   "cell_type": "code",
   "execution_count": null,
   "id": "8ccbaa80",
   "metadata": {},
   "outputs": [],
   "source": []
  }
 ],
 "metadata": {
  "kernelspec": {
   "display_name": "Python 3",
   "language": "python",
   "name": "python3"
  },
  "language_info": {
   "codemirror_mode": {
    "name": "ipython",
    "version": 3
   },
   "file_extension": ".py",
   "mimetype": "text/x-python",
   "name": "python",
   "nbconvert_exporter": "python",
   "pygments_lexer": "ipython3",
   "version": "3.13.7"
  }
 },
 "nbformat": 4,
 "nbformat_minor": 5
}
